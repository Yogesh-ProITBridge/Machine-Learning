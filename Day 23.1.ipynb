{
 "cells": [
  {
   "cell_type": "markdown",
   "id": "c6066022-768c-4464-94a7-fbab4ad28cc3",
   "metadata": {},
   "source": [
    "### Machine Learning:\n",
    "-  Machine Learning is a branch of artificial intelligence that develops algorithms by learning the hidden patterns of the datasets used it to make predictions on new similar type data, without being explicitly programmed for each task.\n",
    "-  Inorder to make a statement about furture.\n",
    "-  Machine learning is used in many different applications, from image and speech recognition to natural language processing, recommendation systems, fraud detection, portfolio optimization, automated task, and so on. Machine learning models are also used to power autonomous vehicles, drones, and robots, making them more intelligent and adaptable to changing environments."
   ]
  },
  {
   "cell_type": "code",
   "execution_count": null,
   "id": "0ff28940-5b0e-42d5-8369-7db99647ac90",
   "metadata": {},
   "outputs": [],
   "source": []
  },
  {
   "cell_type": "markdown",
   "id": "f8dc4020-19f6-419f-baa2-afcca6d8c7ad",
   "metadata": {},
   "source": [
    "### Types of Machine Learning\n",
    "-  Supervised Machine Learning\n",
    "-  Unsupervised Machine Learning\n",
    "-  Reinforcement Machine Learning"
   ]
  },
  {
   "cell_type": "code",
   "execution_count": null,
   "id": "c98bbb61-5fbf-4af7-b6eb-6c5df0321b67",
   "metadata": {},
   "outputs": [],
   "source": []
  },
  {
   "cell_type": "markdown",
   "id": "d071efe5-8f7c-48a5-a43d-2d9d349f6b0c",
   "metadata": {},
   "source": [
    "### 1. Supervised Machine Learning:\n",
    "Supervised learning is a type of machine learning in which the algorithm is trained on the labeled dataset.\n",
    "It learns to map input features to targets based on labeled training data. In supervised learning, \n",
    "the algorithm is provided with input features and corresponding output labels, and it learns to generalize from this data \n",
    "to make predictions on new, unseen data."
   ]
  },
  {
   "cell_type": "markdown",
   "id": "3844e844-d68e-446e-8a17-e0e5031a159d",
   "metadata": {},
   "source": [
    "### There are two main types of supervised learning:\n",
    "\n",
    "**Regression:** Regression is a type of supervised learning where the algorithm learns to predict continuous values based on input features. \n",
    "The output labels in regression are continuous values, such as stock prices, and housing prices. The different regression algorithms \n",
    "in machine learning are: \n",
    "Linear Regression, Polynomial Regression, Ridge Regression, Decision Tree Regression, Random Forest Regression, Support Vector Regression, etc"
   ]
  },
  {
   "cell_type": "code",
   "execution_count": null,
   "id": "39fa0eca-d63c-472b-aab4-f6d2ae95e4e9",
   "metadata": {},
   "outputs": [],
   "source": []
  },
  {
   "cell_type": "markdown",
   "id": "5eff4209-6dba-407f-bcfb-6ceffe35c7a0",
   "metadata": {},
   "source": [
    "**Classification:** Classification is a type of supervised learning where the algorithm learns to assign input data to a specific category or class based\n",
    "on input features. The output labels in classification are discrete values. Classification algorithms can be binary, where the output is \n",
    "one of two possible classes, or multiclass, where the output can be one of several classes. The different Classification algorithms \n",
    "in machine learning are: Logistic Regression, Naive Bayes, Decision Tree, Support Vector Machine (SVM), K-Nearest Neighbors (KNN), etc"
   ]
  },
  {
   "cell_type": "code",
   "execution_count": null,
   "id": "1b132f4f-6d95-48a9-b490-90201767031e",
   "metadata": {},
   "outputs": [],
   "source": []
  },
  {
   "cell_type": "markdown",
   "id": "4d1954fa-7e95-4b7a-be69-ed8a4ad006aa",
   "metadata": {},
   "source": [
    "### 2. Unsupervised Machine Learning:\n",
    "Unsupervised learning is a type of machine learning where the algorithm learns to recognize patterns in data without being explicitly \n",
    "trained using labeled examples. The goal of unsupervised learning is to discover the underlying structure or distribution in the data.\n",
    "There are two main types of unsupervised learning:\n",
    "-  **Clustering:** Clustering algorithms group similar data points together based on their characteristics. The goal is to identify groups, \n",
    "or clusters, of data points that are similar to each other, while being distinct from other groups. Some popular clustering algorithms \n",
    "include K-means, Hierarchical clustering, and DBSCAN.\n",
    "-  **Dimensionality reduction:** Dimensionality reduction algorithms reduce the number of input variables in a dataset while preserving \n",
    "as much of the original information as possible. This is useful for reducing the complexity of a dataset and making it easier to visualize \n",
    "and analyze. Some popular dimensionality reduction algorithms include Principal Component Analysis (PCA), t-SNE, and Autoencoders."
   ]
  },
  {
   "cell_type": "code",
   "execution_count": null,
   "id": "b083446f-d7f1-499c-8a75-cb9d97c036fe",
   "metadata": {},
   "outputs": [],
   "source": []
  },
  {
   "cell_type": "markdown",
   "id": "f45b5e73-c2b9-4208-b696-205e490fe37a",
   "metadata": {},
   "source": [
    "### 3. Reinforcement Machine Learning\n",
    "Reinforcement learning is a type of machine learning where an agent learns to interact with an environment by performing actions and receiving rewards or penalties based on its actions. The goal of reinforcement learning is to learn a policy, which is a mapping from states to actions, that maximizes the expected cumulative reward over time.\n",
    "\n",
    "There are two main types of reinforcement learning:\n",
    "\n",
    "-  **Model-based reinforcement learning:** In model-based reinforcement learning, the agent learns a model of the environment, including the \n",
    "transition probabilities between states and the rewards associated with each state-action pair. The agent then uses this model to plan its actions \n",
    "in order to maximize its expected reward. Some popular model-based reinforcement learning algorithms include Value Iteration and Policy Iteration.\n",
    "\n",
    "-  **Model-free reinforcement learning:** In model-free reinforcement learning, the agent learns a policy directly from experience without \n",
    "explicitly building a model of the environment. The agent interacts with the environment and updates its policy based on the rewards it receives.\n",
    "Some popular model-free reinforcement learning algorithms include Q-Learning, SARSA, and Deep Reinforcement Learning."
   ]
  },
  {
   "cell_type": "code",
   "execution_count": null,
   "id": "ea216663-488b-45fe-8291-44dfada015a3",
   "metadata": {},
   "outputs": [],
   "source": []
  },
  {
   "cell_type": "code",
   "execution_count": null,
   "id": "4f740e48-cba1-483b-bc02-cb9d0a066b7d",
   "metadata": {},
   "outputs": [],
   "source": []
  },
  {
   "cell_type": "code",
   "execution_count": null,
   "id": "b46f17b9-3279-4494-a730-6c1580e72a5a",
   "metadata": {},
   "outputs": [],
   "source": []
  }
 ],
 "metadata": {
  "kernelspec": {
   "display_name": "Python 3 (ipykernel)",
   "language": "python",
   "name": "python3"
  },
  "language_info": {
   "codemirror_mode": {
    "name": "ipython",
    "version": 3
   },
   "file_extension": ".py",
   "mimetype": "text/x-python",
   "name": "python",
   "nbconvert_exporter": "python",
   "pygments_lexer": "ipython3",
   "version": "3.12.0"
  }
 },
 "nbformat": 4,
 "nbformat_minor": 5
}

{
 "cells": [
  {
   "cell_type": "markdown",
   "id": "63db127e-f52f-429d-998e-d7846ee7d440",
   "metadata": {},
   "source": [
    "## 1. Import necessary libraries"
   ]
  },
  {
   "cell_type": "code",
   "execution_count": 1,
   "id": "756512e5-8046-4620-b778-1ec5b80b43a9",
   "metadata": {},
   "outputs": [],
   "source": [
    "import pandas as pd\n",
    "import matplotlib.pyplot as plt\n",
    "import seaborn as sns\n",
    "\n",
    "from sklearn.linear_model import LinearRegression"
   ]
  },
  {
   "cell_type": "markdown",
   "id": "41972239-9a9a-44cd-b899-a2d929fe1889",
   "metadata": {},
   "source": [
    "## 2. Load your dataset"
   ]
  },
  {
   "cell_type": "code",
   "execution_count": 2,
   "id": "239dbf4b-8c42-498f-bd67-b53fbd471253",
   "metadata": {},
   "outputs": [],
   "source": [
    "cars_data = pd.read_csv('Cars.csv')"
   ]
  },
  {
   "cell_type": "code",
   "execution_count": 3,
   "id": "579b9b98-df56-4e25-989c-edfaf17bd8c3",
   "metadata": {},
   "outputs": [
    {
     "data": {
      "text/html": [
       "<div>\n",
       "<style scoped>\n",
       "    .dataframe tbody tr th:only-of-type {\n",
       "        vertical-align: middle;\n",
       "    }\n",
       "\n",
       "    .dataframe tbody tr th {\n",
       "        vertical-align: top;\n",
       "    }\n",
       "\n",
       "    .dataframe thead th {\n",
       "        text-align: right;\n",
       "    }\n",
       "</style>\n",
       "<table border=\"1\" class=\"dataframe\">\n",
       "  <thead>\n",
       "    <tr style=\"text-align: right;\">\n",
       "      <th></th>\n",
       "      <th>HP</th>\n",
       "      <th>MPG</th>\n",
       "      <th>VOL</th>\n",
       "      <th>SP</th>\n",
       "      <th>WT</th>\n",
       "    </tr>\n",
       "  </thead>\n",
       "  <tbody>\n",
       "    <tr>\n",
       "      <th>0</th>\n",
       "      <td>49</td>\n",
       "      <td>53.700681</td>\n",
       "      <td>89</td>\n",
       "      <td>104.185353</td>\n",
       "      <td>28.762059</td>\n",
       "    </tr>\n",
       "    <tr>\n",
       "      <th>1</th>\n",
       "      <td>55</td>\n",
       "      <td>50.013401</td>\n",
       "      <td>92</td>\n",
       "      <td>105.461264</td>\n",
       "      <td>30.466833</td>\n",
       "    </tr>\n",
       "    <tr>\n",
       "      <th>2</th>\n",
       "      <td>55</td>\n",
       "      <td>50.013401</td>\n",
       "      <td>92</td>\n",
       "      <td>105.461264</td>\n",
       "      <td>30.193597</td>\n",
       "    </tr>\n",
       "    <tr>\n",
       "      <th>3</th>\n",
       "      <td>70</td>\n",
       "      <td>45.696322</td>\n",
       "      <td>92</td>\n",
       "      <td>113.461264</td>\n",
       "      <td>30.632114</td>\n",
       "    </tr>\n",
       "    <tr>\n",
       "      <th>4</th>\n",
       "      <td>53</td>\n",
       "      <td>50.504232</td>\n",
       "      <td>92</td>\n",
       "      <td>104.461264</td>\n",
       "      <td>29.889149</td>\n",
       "    </tr>\n",
       "    <tr>\n",
       "      <th>...</th>\n",
       "      <td>...</td>\n",
       "      <td>...</td>\n",
       "      <td>...</td>\n",
       "      <td>...</td>\n",
       "      <td>...</td>\n",
       "    </tr>\n",
       "    <tr>\n",
       "      <th>76</th>\n",
       "      <td>322</td>\n",
       "      <td>36.900000</td>\n",
       "      <td>50</td>\n",
       "      <td>169.598513</td>\n",
       "      <td>16.132947</td>\n",
       "    </tr>\n",
       "    <tr>\n",
       "      <th>77</th>\n",
       "      <td>238</td>\n",
       "      <td>19.197888</td>\n",
       "      <td>115</td>\n",
       "      <td>150.576579</td>\n",
       "      <td>37.923113</td>\n",
       "    </tr>\n",
       "    <tr>\n",
       "      <th>78</th>\n",
       "      <td>263</td>\n",
       "      <td>34.000000</td>\n",
       "      <td>50</td>\n",
       "      <td>151.598513</td>\n",
       "      <td>15.769625</td>\n",
       "    </tr>\n",
       "    <tr>\n",
       "      <th>79</th>\n",
       "      <td>295</td>\n",
       "      <td>19.833733</td>\n",
       "      <td>119</td>\n",
       "      <td>167.944460</td>\n",
       "      <td>39.423099</td>\n",
       "    </tr>\n",
       "    <tr>\n",
       "      <th>80</th>\n",
       "      <td>236</td>\n",
       "      <td>12.101263</td>\n",
       "      <td>107</td>\n",
       "      <td>139.840817</td>\n",
       "      <td>34.948615</td>\n",
       "    </tr>\n",
       "  </tbody>\n",
       "</table>\n",
       "<p>81 rows × 5 columns</p>\n",
       "</div>"
      ],
      "text/plain": [
       "     HP        MPG  VOL          SP         WT\n",
       "0    49  53.700681   89  104.185353  28.762059\n",
       "1    55  50.013401   92  105.461264  30.466833\n",
       "2    55  50.013401   92  105.461264  30.193597\n",
       "3    70  45.696322   92  113.461264  30.632114\n",
       "4    53  50.504232   92  104.461264  29.889149\n",
       "..  ...        ...  ...         ...        ...\n",
       "76  322  36.900000   50  169.598513  16.132947\n",
       "77  238  19.197888  115  150.576579  37.923113\n",
       "78  263  34.000000   50  151.598513  15.769625\n",
       "79  295  19.833733  119  167.944460  39.423099\n",
       "80  236  12.101263  107  139.840817  34.948615\n",
       "\n",
       "[81 rows x 5 columns]"
      ]
     },
     "execution_count": 3,
     "metadata": {},
     "output_type": "execute_result"
    }
   ],
   "source": [
    "cars_data"
   ]
  },
  {
   "cell_type": "markdown",
   "id": "a91ab8d2-77d0-4e99-942d-94879709b82b",
   "metadata": {},
   "source": [
    "## 3.1 Perform data analysis"
   ]
  },
  {
   "cell_type": "code",
   "execution_count": 4,
   "id": "feec7973-40fc-47c8-9d27-2bba100c3311",
   "metadata": {},
   "outputs": [
    {
     "data": {
      "text/html": [
       "<div>\n",
       "<style scoped>\n",
       "    .dataframe tbody tr th:only-of-type {\n",
       "        vertical-align: middle;\n",
       "    }\n",
       "\n",
       "    .dataframe tbody tr th {\n",
       "        vertical-align: top;\n",
       "    }\n",
       "\n",
       "    .dataframe thead th {\n",
       "        text-align: right;\n",
       "    }\n",
       "</style>\n",
       "<table border=\"1\" class=\"dataframe\">\n",
       "  <thead>\n",
       "    <tr style=\"text-align: right;\">\n",
       "      <th></th>\n",
       "      <th>HP</th>\n",
       "      <th>MPG</th>\n",
       "      <th>VOL</th>\n",
       "      <th>SP</th>\n",
       "      <th>WT</th>\n",
       "    </tr>\n",
       "  </thead>\n",
       "  <tbody>\n",
       "    <tr>\n",
       "      <th>0</th>\n",
       "      <td>49</td>\n",
       "      <td>53.700681</td>\n",
       "      <td>89</td>\n",
       "      <td>104.185353</td>\n",
       "      <td>28.762059</td>\n",
       "    </tr>\n",
       "    <tr>\n",
       "      <th>1</th>\n",
       "      <td>55</td>\n",
       "      <td>50.013401</td>\n",
       "      <td>92</td>\n",
       "      <td>105.461264</td>\n",
       "      <td>30.466833</td>\n",
       "    </tr>\n",
       "    <tr>\n",
       "      <th>2</th>\n",
       "      <td>55</td>\n",
       "      <td>50.013401</td>\n",
       "      <td>92</td>\n",
       "      <td>105.461264</td>\n",
       "      <td>30.193597</td>\n",
       "    </tr>\n",
       "    <tr>\n",
       "      <th>3</th>\n",
       "      <td>70</td>\n",
       "      <td>45.696322</td>\n",
       "      <td>92</td>\n",
       "      <td>113.461264</td>\n",
       "      <td>30.632114</td>\n",
       "    </tr>\n",
       "    <tr>\n",
       "      <th>4</th>\n",
       "      <td>53</td>\n",
       "      <td>50.504232</td>\n",
       "      <td>92</td>\n",
       "      <td>104.461264</td>\n",
       "      <td>29.889149</td>\n",
       "    </tr>\n",
       "  </tbody>\n",
       "</table>\n",
       "</div>"
      ],
      "text/plain": [
       "   HP        MPG  VOL          SP         WT\n",
       "0  49  53.700681   89  104.185353  28.762059\n",
       "1  55  50.013401   92  105.461264  30.466833\n",
       "2  55  50.013401   92  105.461264  30.193597\n",
       "3  70  45.696322   92  113.461264  30.632114\n",
       "4  53  50.504232   92  104.461264  29.889149"
      ]
     },
     "execution_count": 4,
     "metadata": {},
     "output_type": "execute_result"
    }
   ],
   "source": [
    "cars_data.head()"
   ]
  },
  {
   "cell_type": "code",
   "execution_count": 5,
   "id": "a363d956-a6c9-424e-89bf-e85fd3710396",
   "metadata": {},
   "outputs": [
    {
     "data": {
      "text/html": [
       "<div>\n",
       "<style scoped>\n",
       "    .dataframe tbody tr th:only-of-type {\n",
       "        vertical-align: middle;\n",
       "    }\n",
       "\n",
       "    .dataframe tbody tr th {\n",
       "        vertical-align: top;\n",
       "    }\n",
       "\n",
       "    .dataframe thead th {\n",
       "        text-align: right;\n",
       "    }\n",
       "</style>\n",
       "<table border=\"1\" class=\"dataframe\">\n",
       "  <thead>\n",
       "    <tr style=\"text-align: right;\">\n",
       "      <th></th>\n",
       "      <th>HP</th>\n",
       "      <th>MPG</th>\n",
       "      <th>VOL</th>\n",
       "      <th>SP</th>\n",
       "      <th>WT</th>\n",
       "    </tr>\n",
       "  </thead>\n",
       "  <tbody>\n",
       "    <tr>\n",
       "      <th>76</th>\n",
       "      <td>322</td>\n",
       "      <td>36.900000</td>\n",
       "      <td>50</td>\n",
       "      <td>169.598513</td>\n",
       "      <td>16.132947</td>\n",
       "    </tr>\n",
       "    <tr>\n",
       "      <th>77</th>\n",
       "      <td>238</td>\n",
       "      <td>19.197888</td>\n",
       "      <td>115</td>\n",
       "      <td>150.576579</td>\n",
       "      <td>37.923113</td>\n",
       "    </tr>\n",
       "    <tr>\n",
       "      <th>78</th>\n",
       "      <td>263</td>\n",
       "      <td>34.000000</td>\n",
       "      <td>50</td>\n",
       "      <td>151.598513</td>\n",
       "      <td>15.769625</td>\n",
       "    </tr>\n",
       "    <tr>\n",
       "      <th>79</th>\n",
       "      <td>295</td>\n",
       "      <td>19.833733</td>\n",
       "      <td>119</td>\n",
       "      <td>167.944460</td>\n",
       "      <td>39.423099</td>\n",
       "    </tr>\n",
       "    <tr>\n",
       "      <th>80</th>\n",
       "      <td>236</td>\n",
       "      <td>12.101263</td>\n",
       "      <td>107</td>\n",
       "      <td>139.840817</td>\n",
       "      <td>34.948615</td>\n",
       "    </tr>\n",
       "  </tbody>\n",
       "</table>\n",
       "</div>"
      ],
      "text/plain": [
       "     HP        MPG  VOL          SP         WT\n",
       "76  322  36.900000   50  169.598513  16.132947\n",
       "77  238  19.197888  115  150.576579  37.923113\n",
       "78  263  34.000000   50  151.598513  15.769625\n",
       "79  295  19.833733  119  167.944460  39.423099\n",
       "80  236  12.101263  107  139.840817  34.948615"
      ]
     },
     "execution_count": 5,
     "metadata": {},
     "output_type": "execute_result"
    }
   ],
   "source": [
    "cars_data.tail()"
   ]
  },
  {
   "cell_type": "code",
   "execution_count": 6,
   "id": "794395ab-9fb0-438b-a920-f3c45a447945",
   "metadata": {},
   "outputs": [
    {
     "data": {
      "text/plain": [
       "(81, 5)"
      ]
     },
     "execution_count": 6,
     "metadata": {},
     "output_type": "execute_result"
    }
   ],
   "source": [
    "cars_data.shape"
   ]
  },
  {
   "cell_type": "code",
   "execution_count": 7,
   "id": "0fd899c4-6784-4271-bdfd-c290ba66b115",
   "metadata": {},
   "outputs": [
    {
     "data": {
      "text/html": [
       "<div>\n",
       "<style scoped>\n",
       "    .dataframe tbody tr th:only-of-type {\n",
       "        vertical-align: middle;\n",
       "    }\n",
       "\n",
       "    .dataframe tbody tr th {\n",
       "        vertical-align: top;\n",
       "    }\n",
       "\n",
       "    .dataframe thead th {\n",
       "        text-align: right;\n",
       "    }\n",
       "</style>\n",
       "<table border=\"1\" class=\"dataframe\">\n",
       "  <thead>\n",
       "    <tr style=\"text-align: right;\">\n",
       "      <th></th>\n",
       "      <th>HP</th>\n",
       "      <th>MPG</th>\n",
       "      <th>VOL</th>\n",
       "      <th>SP</th>\n",
       "      <th>WT</th>\n",
       "    </tr>\n",
       "  </thead>\n",
       "  <tbody>\n",
       "    <tr>\n",
       "      <th>0</th>\n",
       "      <td>False</td>\n",
       "      <td>False</td>\n",
       "      <td>False</td>\n",
       "      <td>False</td>\n",
       "      <td>False</td>\n",
       "    </tr>\n",
       "    <tr>\n",
       "      <th>1</th>\n",
       "      <td>False</td>\n",
       "      <td>False</td>\n",
       "      <td>False</td>\n",
       "      <td>False</td>\n",
       "      <td>False</td>\n",
       "    </tr>\n",
       "    <tr>\n",
       "      <th>2</th>\n",
       "      <td>False</td>\n",
       "      <td>False</td>\n",
       "      <td>False</td>\n",
       "      <td>False</td>\n",
       "      <td>False</td>\n",
       "    </tr>\n",
       "    <tr>\n",
       "      <th>3</th>\n",
       "      <td>False</td>\n",
       "      <td>False</td>\n",
       "      <td>False</td>\n",
       "      <td>False</td>\n",
       "      <td>False</td>\n",
       "    </tr>\n",
       "    <tr>\n",
       "      <th>4</th>\n",
       "      <td>False</td>\n",
       "      <td>False</td>\n",
       "      <td>False</td>\n",
       "      <td>False</td>\n",
       "      <td>False</td>\n",
       "    </tr>\n",
       "    <tr>\n",
       "      <th>...</th>\n",
       "      <td>...</td>\n",
       "      <td>...</td>\n",
       "      <td>...</td>\n",
       "      <td>...</td>\n",
       "      <td>...</td>\n",
       "    </tr>\n",
       "    <tr>\n",
       "      <th>76</th>\n",
       "      <td>False</td>\n",
       "      <td>False</td>\n",
       "      <td>False</td>\n",
       "      <td>False</td>\n",
       "      <td>False</td>\n",
       "    </tr>\n",
       "    <tr>\n",
       "      <th>77</th>\n",
       "      <td>False</td>\n",
       "      <td>False</td>\n",
       "      <td>False</td>\n",
       "      <td>False</td>\n",
       "      <td>False</td>\n",
       "    </tr>\n",
       "    <tr>\n",
       "      <th>78</th>\n",
       "      <td>False</td>\n",
       "      <td>False</td>\n",
       "      <td>False</td>\n",
       "      <td>False</td>\n",
       "      <td>False</td>\n",
       "    </tr>\n",
       "    <tr>\n",
       "      <th>79</th>\n",
       "      <td>False</td>\n",
       "      <td>False</td>\n",
       "      <td>False</td>\n",
       "      <td>False</td>\n",
       "      <td>False</td>\n",
       "    </tr>\n",
       "    <tr>\n",
       "      <th>80</th>\n",
       "      <td>False</td>\n",
       "      <td>False</td>\n",
       "      <td>False</td>\n",
       "      <td>False</td>\n",
       "      <td>False</td>\n",
       "    </tr>\n",
       "  </tbody>\n",
       "</table>\n",
       "<p>81 rows × 5 columns</p>\n",
       "</div>"
      ],
      "text/plain": [
       "       HP    MPG    VOL     SP     WT\n",
       "0   False  False  False  False  False\n",
       "1   False  False  False  False  False\n",
       "2   False  False  False  False  False\n",
       "3   False  False  False  False  False\n",
       "4   False  False  False  False  False\n",
       "..    ...    ...    ...    ...    ...\n",
       "76  False  False  False  False  False\n",
       "77  False  False  False  False  False\n",
       "78  False  False  False  False  False\n",
       "79  False  False  False  False  False\n",
       "80  False  False  False  False  False\n",
       "\n",
       "[81 rows x 5 columns]"
      ]
     },
     "execution_count": 7,
     "metadata": {},
     "output_type": "execute_result"
    }
   ],
   "source": [
    "cars_data.isnull()"
   ]
  },
  {
   "cell_type": "code",
   "execution_count": 8,
   "id": "ea8a1f62-9bd3-4d87-bd5b-c9dc55877184",
   "metadata": {},
   "outputs": [
    {
     "data": {
      "text/plain": [
       "HP     0\n",
       "MPG    0\n",
       "VOL    0\n",
       "SP     0\n",
       "WT     0\n",
       "dtype: int64"
      ]
     },
     "execution_count": 8,
     "metadata": {},
     "output_type": "execute_result"
    }
   ],
   "source": [
    "cars_data.isnull().sum()"
   ]
  },
  {
   "cell_type": "markdown",
   "id": "56d2724d-91c9-430e-a579-077e6e0cbeec",
   "metadata": {},
   "source": [
    "## 3.2 Perform Assumptions Check"
   ]
  },
  {
   "cell_type": "markdown",
   "id": "e46ad97c-2f81-4dc1-a0a9-805408af0604",
   "metadata": {},
   "source": [
    "### Let's Test the Assumptions"
   ]
  },
  {
   "cell_type": "markdown",
   "id": "be38db24-fe32-4e64-837d-3154787ff227",
   "metadata": {},
   "source": [
    "#### Assumption 1 : - Normally distributed"
   ]
  },
  {
   "cell_type": "code",
   "execution_count": 9,
   "id": "3e58e370-178a-4a5a-ba49-4e7bd979d521",
   "metadata": {},
   "outputs": [
    {
     "data": {
      "image/png": "[encoded data removed]",
      "text/plain": [
       "<Figure size 640x480 with 1 Axes>"
      ]
     },
     "metadata": {},
     "output_type": "display_data"
    }
   ],
   "source": [
    "sns.histplot(data=cars_data[\"HP\"],kde=True)\n",
    "plt.title(\"Normality check on HP\")\n",
    "plt.show()"
   ]
  },
  {
   "cell_type": "code",
   "execution_count": 10,
   "id": "65830341-6a4f-41da-a8e0-a1060c11c2df",
   "metadata": {},
   "outputs": [
    {
     "data": {
      "image/png": "[encoded data removed]",
      "text/plain": [
       "<Figure size 640x480 with 1 Axes>"
      ]
     },
     "metadata": {},
     "output_type": "display_data"
    }
   ],
   "source": [
    "sns.histplot(data=cars_data[\"VOL\"],kde=True)\n",
    "plt.title(\"Normality check on VOL\")\n",
    "plt.show()"
   ]
  },
  {
   "cell_type": "code",
   "execution_count": 11,
   "id": "fb16fcb1-1ef9-40df-8c45-62c8080aa23c",
   "metadata": {},
   "outputs": [
    {
     "data": {
      "image/png": "[encoded data removed]",
      "text/plain": [
       "<Figure size 640x480 with 1 Axes>"
      ]
     },
     "metadata": {},
     "output_type": "display_data"
    }
   ],
   "source": [
    "sns.histplot(data=cars_data[\"WT\"],kde=True)\n",
    "plt.title(\"Normality check on WT\")\n",
    "plt.show()"
   ]
  },
  {
   "cell_type": "code",
   "execution_count": 12,
   "id": "24ee4097-564f-4861-8426-7b7101ae5ef9",
   "metadata": {},
   "outputs": [
    {
     "data": {
      "image/png": "[encoded data removed]",
      "text/plain": [
       "<Figure size 640x480 with 1 Axes>"
      ]
     },
     "metadata": {},
     "output_type": "display_data"
    }
   ],
   "source": [
    "sns.histplot(data=cars_data[\"SP\"],kde=True)\n",
    "plt.title(\"Normality check on SP\")\n",
    "plt.show()"
   ]
  },
  {
   "cell_type": "markdown",
   "id": "8123eb0c-d5c2-4d50-ac4a-5fd5bd24ca97",
   "metadata": {},
   "source": [
    "**- Normally distributed test is failed**"
   ]
  },
  {
   "cell_type": "code",
   "execution_count": null,
   "id": "804fc08f-e1a9-40da-8cea-93fbf2360500",
   "metadata": {},
   "outputs": [],
   "source": []
  },
  {
   "cell_type": "markdown",
   "id": "0eec660f-81a9-4dc3-a441-02fed0773bd3",
   "metadata": {},
   "source": [
    "#### Assumption 2 :- Linearity test"
   ]
  },
  {
   "cell_type": "code",
   "execution_count": 13,
   "id": "861a12d2-31fd-4df9-ba43-97cfeeb82879",
   "metadata": {},
   "outputs": [
    {
     "data": {
      "image/png": "[encoded data removed]",
      "text/plain": [
       "<Figure size 640x480 with 1 Axes>"
      ]
     },
     "metadata": {},
     "output_type": "display_data"
    }
   ],
   "source": [
    "sns.scatterplot(data=cars_data, x='HP',y='MPG')\n",
    "plt.show()"
   ]
  },
  {
   "cell_type": "code",
   "execution_count": 14,
   "id": "1e222103-abba-4144-adbe-69f0ea754e3a",
   "metadata": {},
   "outputs": [
    {
     "data": {
      "image/png": "[encoded data removed]",
      "text/plain": [
       "<Figure size 500x500 with 1 Axes>"
      ]
     },
     "metadata": {},
     "output_type": "display_data"
    }
   ],
   "source": [
    "sns.lmplot(data=cars_data, x='HP',y='MPG')\n",
    "plt.title(\"HP vs MPG\")\n",
    "plt.show()"
   ]
  },
  {
   "cell_type": "code",
   "execution_count": 15,
   "id": "6e318c4a-799f-4bfb-8c18-d9ca84938a30",
   "metadata": {},
   "outputs": [
    {
     "data": {
      "image/png": "[encoded data removed]",
      "text/plain": [
       "<Figure size 500x500 with 1 Axes>"
      ]
     },
     "metadata": {},
     "output_type": "display_data"
    }
   ],
   "source": [
    "sns.lmplot(data=cars_data, x='WT',y='MPG')\n",
    "plt.title(\"WT vs MPG\")\n",
    "plt.show()"
   ]
  },
  {
   "cell_type": "code",
   "execution_count": 16,
   "id": "a34d7a92-63d5-44d6-a0ab-cc49613cbc84",
   "metadata": {},
   "outputs": [
    {
     "data": {
      "image/png": "[encoded data removed]",
      "text/plain": [
       "<Figure size 500x500 with 1 Axes>"
      ]
     },
     "metadata": {},
     "output_type": "display_data"
    }
   ],
   "source": [
    "sns.lmplot(data=cars_data, x='SP',y='MPG')\n",
    "plt.title(\"SP vs MPG\")\n",
    "plt.show()"
   ]
  },
  {
   "cell_type": "code",
   "execution_count": 17,
   "id": "271c4f5c-5395-4fcf-b6c3-e890e59f7a15",
   "metadata": {},
   "outputs": [
    {
     "data": {
      "image/png": "[encoded data removed]",
      "text/plain": [
       "<Figure size 500x500 with 1 Axes>"
      ]
     },
     "metadata": {},
     "output_type": "display_data"
    }
   ],
   "source": [
    "sns.lmplot(data=cars_data, x='VOL',y='MPG')\n",
    "plt.title(\"VOL vs MPG\")\n",
    "plt.show()"
   ]
  },
  {
   "cell_type": "markdown",
   "id": "63a01681-1e3f-4cf5-bcef-e07da6adefe6",
   "metadata": {},
   "source": [
    "**- Linearity test also failed**"
   ]
  },
  {
   "cell_type": "code",
   "execution_count": null,
   "id": "f971c95a-353f-4d6a-9a6c-7676680a4f06",
   "metadata": {},
   "outputs": [],
   "source": []
  },
  {
   "cell_type": "markdown",
   "id": "57b3c0ea-d913-4645-a287-a9b84f32c9fb",
   "metadata": {},
   "source": [
    "### Assumption 3 : Multicollinerlirty"
   ]
  },
  {
   "cell_type": "code",
   "execution_count": 18,
   "id": "ea62b65b-2963-416b-abeb-052b8a99accc",
   "metadata": {},
   "outputs": [],
   "source": [
    "cars_corr=cars_data.corr()"
   ]
  },
  {
   "cell_type": "code",
   "execution_count": 19,
   "id": "cdd41223-e086-47f1-9c32-1366fadb3709",
   "metadata": {},
   "outputs": [
    {
     "data": {
      "image/png": "[encoded data removed]",
      "text/plain": [
       "<Figure size 640x480 with 2 Axes>"
      ]
     },
     "metadata": {},
     "output_type": "display_data"
    }
   ],
   "source": [
    "sns.heatmap(data=cars_corr,annot=True)\n",
    "plt.show()"
   ]
  },
  {
   "cell_type": "markdown",
   "id": "3c65d709-cfc3-4085-b7cf-0a3f9ecee5be",
   "metadata": {},
   "source": [
    "**- Multicollinearity Test also failed**"
   ]
  },
  {
   "cell_type": "code",
   "execution_count": null,
   "id": "7eb16a61-57d4-46ea-99bf-4098eb5a7b7b",
   "metadata": {},
   "outputs": [],
   "source": []
  },
  {
   "cell_type": "markdown",
   "id": "7df815a7-ca46-43cb-b2f1-112e0b77f09d",
   "metadata": {},
   "source": [
    "### Assumption 4 : No Autoregression"
   ]
  },
  {
   "cell_type": "markdown",
   "id": "8fc8bf2d-b409-4bec-bb16-a52fbd53c6f4",
   "metadata": {},
   "source": [
    "**- There is no date/time in the features**"
   ]
  },
  {
   "cell_type": "markdown",
   "id": "1f551cb0-e9e0-435a-91ad-31c7836869fa",
   "metadata": {},
   "source": [
    "## 4. Data preparation\n",
    "-  Everything is fine with our data"
   ]
  },
  {
   "cell_type": "code",
   "execution_count": null,
   "id": "287f5dfa-8279-4ae6-afd6-527ad7881dce",
   "metadata": {},
   "outputs": [],
   "source": []
  },
  {
   "cell_type": "markdown",
   "id": "971a5e49-b948-4615-be5d-9b2e4581c645",
   "metadata": {},
   "source": [
    "## 5. Model Building "
   ]
  },
  {
   "cell_type": "code",
   "execution_count": 20,
   "id": "ea728064-ab6e-46f3-861c-776b235b207e",
   "metadata": {},
   "outputs": [],
   "source": [
    "x = cars_data.drop(\"MPG\",axis=1)\n",
    "y = cars_data [[\"MPG\"]]"
   ]
  },
  {
   "cell_type": "code",
   "execution_count": 21,
   "id": "e31daa01-b420-476c-babe-7acd137bf999",
   "metadata": {},
   "outputs": [
    {
     "data": {
      "text/plain": [
       "(81, 4)"
      ]
     },
     "execution_count": 21,
     "metadata": {},
     "output_type": "execute_result"
    }
   ],
   "source": [
    "x.shape"
   ]
  },
  {
   "cell_type": "code",
   "execution_count": 22,
   "id": "0accb9fc-c61f-450a-8ad2-7322c8553dcd",
   "metadata": {},
   "outputs": [
    {
     "data": {
      "text/plain": [
       "(81, 1)"
      ]
     },
     "execution_count": 22,
     "metadata": {},
     "output_type": "execute_result"
    }
   ],
   "source": [
    "y.shape"
   ]
  },
  {
   "cell_type": "code",
   "execution_count": 23,
   "id": "bf20afd2-013f-4f37-98fe-a34157ecef43",
   "metadata": {},
   "outputs": [],
   "source": [
    "from sklearn.model_selection import train_test_split"
   ]
  },
  {
   "cell_type": "code",
   "execution_count": 24,
   "id": "59a53bd4-1024-4dca-8ed8-fe74f4a92c4d",
   "metadata": {},
   "outputs": [
    {
     "data": {
      "text/plain": [
       "[     HP  VOL          SP         WT\n",
       " 4    53   92  104.461264  29.889149\n",
       " 80  236  107  139.840817  34.948615\n",
       " 29  103  107  121.840817  35.549360\n",
       " 64  150  121  128.128401  40.159482\n",
       " 24   95   89  119.185353  28.781728\n",
       " ..  ...  ...         ...        ...\n",
       " 73  140  160  124.715241  52.997752\n",
       " 47   98  103  116.472936  33.910056\n",
       " 57  115  101  118.288996  32.734518\n",
       " 17   92   50  117.598513  16.194122\n",
       " 66  165  114  132.484609  37.979956\n",
       " \n",
       " [79 rows x 4 columns],\n",
       "      HP  VOL          SP         WT\n",
       " 71  162  135  133.415985  44.013139\n",
       " 76  322   50  169.598513  16.132947,\n",
       "           MPG\n",
       " 4   50.504232\n",
       " 80  12.101263\n",
       " 29  35.404192\n",
       " 64  23.605158\n",
       " 24  38.310606\n",
       " ..        ...\n",
       " 73  19.086341\n",
       " 47  35.052330\n",
       " 57  29.629936\n",
       " 17  39.354094\n",
       " 66  23.103172\n",
       " \n",
       " [79 rows x 1 columns],\n",
       "           MPG\n",
       " 71  23.203569\n",
       " 76  36.900000]"
      ]
     },
     "execution_count": 24,
     "metadata": {},
     "output_type": "execute_result"
    }
   ],
   "source": [
    "train_test_split(x,y,test_size=0.02,random_state=123)"
   ]
  },
  {
   "cell_type": "code",
   "execution_count": 25,
   "id": "f65f6cc2-df07-4a9b-bd6a-744a3f15da3e",
   "metadata": {},
   "outputs": [],
   "source": [
    "x_train,x_test,y_train,y_test=train_test_split(x,y,test_size=0.02)"
   ]
  },
  {
   "cell_type": "code",
   "execution_count": 26,
   "id": "f277a884-a463-46a8-8127-9321241c9928",
   "metadata": {},
   "outputs": [
    {
     "data": {
      "text/html": [
       "<div>\n",
       "<style scoped>\n",
       "    .dataframe tbody tr th:only-of-type {\n",
       "        vertical-align: middle;\n",
       "    }\n",
       "\n",
       "    .dataframe tbody tr th {\n",
       "        vertical-align: top;\n",
       "    }\n",
       "\n",
       "    .dataframe thead th {\n",
       "        text-align: right;\n",
       "    }\n",
       "</style>\n",
       "<table border=\"1\" class=\"dataframe\">\n",
       "  <thead>\n",
       "    <tr style=\"text-align: right;\">\n",
       "      <th></th>\n",
       "      <th>HP</th>\n",
       "      <th>VOL</th>\n",
       "      <th>SP</th>\n",
       "      <th>WT</th>\n",
       "    </tr>\n",
       "  </thead>\n",
       "  <tbody>\n",
       "    <tr>\n",
       "      <th>66</th>\n",
       "      <td>165</td>\n",
       "      <td>114</td>\n",
       "      <td>132.484609</td>\n",
       "      <td>37.979956</td>\n",
       "    </tr>\n",
       "    <tr>\n",
       "      <th>26</th>\n",
       "      <td>92</td>\n",
       "      <td>117</td>\n",
       "      <td>120.760520</td>\n",
       "      <td>38.062823</td>\n",
       "    </tr>\n",
       "    <tr>\n",
       "      <th>50</th>\n",
       "      <td>115</td>\n",
       "      <td>101</td>\n",
       "      <td>118.288996</td>\n",
       "      <td>33.213954</td>\n",
       "    </tr>\n",
       "    <tr>\n",
       "      <th>65</th>\n",
       "      <td>165</td>\n",
       "      <td>50</td>\n",
       "      <td>126.598513</td>\n",
       "      <td>15.712859</td>\n",
       "    </tr>\n",
       "    <tr>\n",
       "      <th>10</th>\n",
       "      <td>73</td>\n",
       "      <td>89</td>\n",
       "      <td>111.185353</td>\n",
       "      <td>29.363341</td>\n",
       "    </tr>\n",
       "    <tr>\n",
       "      <th>...</th>\n",
       "      <td>...</td>\n",
       "      <td>...</td>\n",
       "      <td>...</td>\n",
       "      <td>...</td>\n",
       "    </tr>\n",
       "    <tr>\n",
       "      <th>1</th>\n",
       "      <td>55</td>\n",
       "      <td>92</td>\n",
       "      <td>105.461264</td>\n",
       "      <td>30.466833</td>\n",
       "    </tr>\n",
       "    <tr>\n",
       "      <th>23</th>\n",
       "      <td>81</td>\n",
       "      <td>96</td>\n",
       "      <td>113.829145</td>\n",
       "      <td>31.837122</td>\n",
       "    </tr>\n",
       "    <tr>\n",
       "      <th>62</th>\n",
       "      <td>140</td>\n",
       "      <td>131</td>\n",
       "      <td>126.048103</td>\n",
       "      <td>43.390988</td>\n",
       "    </tr>\n",
       "    <tr>\n",
       "      <th>71</th>\n",
       "      <td>162</td>\n",
       "      <td>135</td>\n",
       "      <td>133.415985</td>\n",
       "      <td>44.013139</td>\n",
       "    </tr>\n",
       "    <tr>\n",
       "      <th>78</th>\n",
       "      <td>263</td>\n",
       "      <td>50</td>\n",
       "      <td>151.598513</td>\n",
       "      <td>15.769625</td>\n",
       "    </tr>\n",
       "  </tbody>\n",
       "</table>\n",
       "<p>79 rows × 4 columns</p>\n",
       "</div>"
      ],
      "text/plain": [
       "     HP  VOL          SP         WT\n",
       "66  165  114  132.484609  37.979956\n",
       "26   92  117  120.760520  38.062823\n",
       "50  115  101  118.288996  33.213954\n",
       "65  165   50  126.598513  15.712859\n",
       "10   73   89  111.185353  29.363341\n",
       "..  ...  ...         ...        ...\n",
       "1    55   92  105.461264  30.466833\n",
       "23   81   96  113.829145  31.837122\n",
       "62  140  131  126.048103  43.390988\n",
       "71  162  135  133.415985  44.013139\n",
       "78  263   50  151.598513  15.769625\n",
       "\n",
       "[79 rows x 4 columns]"
      ]
     },
     "execution_count": 26,
     "metadata": {},
     "output_type": "execute_result"
    }
   ],
   "source": [
    "x_train"
   ]
  },
  {
   "cell_type": "code",
   "execution_count": 27,
   "id": "8c719058-fe29-4b21-8c40-13db5b0d57d5",
   "metadata": {},
   "outputs": [
    {
     "data": {
      "text/html": [
       "<div>\n",
       "<style scoped>\n",
       "    .dataframe tbody tr th:only-of-type {\n",
       "        vertical-align: middle;\n",
       "    }\n",
       "\n",
       "    .dataframe tbody tr th {\n",
       "        vertical-align: top;\n",
       "    }\n",
       "\n",
       "    .dataframe thead th {\n",
       "        text-align: right;\n",
       "    }\n",
       "</style>\n",
       "<table border=\"1\" class=\"dataframe\">\n",
       "  <thead>\n",
       "    <tr style=\"text-align: right;\">\n",
       "      <th></th>\n",
       "      <th>HP</th>\n",
       "      <th>VOL</th>\n",
       "      <th>SP</th>\n",
       "      <th>WT</th>\n",
       "    </tr>\n",
       "  </thead>\n",
       "  <tbody>\n",
       "    <tr>\n",
       "      <th>53</th>\n",
       "      <td>180</td>\n",
       "      <td>113</td>\n",
       "      <td>143.392639</td>\n",
       "      <td>37.620695</td>\n",
       "    </tr>\n",
       "    <tr>\n",
       "      <th>21</th>\n",
       "      <td>74</td>\n",
       "      <td>107</td>\n",
       "      <td>110.840817</td>\n",
       "      <td>34.908211</td>\n",
       "    </tr>\n",
       "  </tbody>\n",
       "</table>\n",
       "</div>"
      ],
      "text/plain": [
       "     HP  VOL          SP         WT\n",
       "53  180  113  143.392639  37.620695\n",
       "21   74  107  110.840817  34.908211"
      ]
     },
     "execution_count": 27,
     "metadata": {},
     "output_type": "execute_result"
    }
   ],
   "source": [
    "x_test"
   ]
  },
  {
   "cell_type": "code",
   "execution_count": 28,
   "id": "80bcdc89-7979-4782-8d5c-78b95dfffa3c",
   "metadata": {},
   "outputs": [
    {
     "data": {
      "text/html": [
       "<div>\n",
       "<style scoped>\n",
       "    .dataframe tbody tr th:only-of-type {\n",
       "        vertical-align: middle;\n",
       "    }\n",
       "\n",
       "    .dataframe tbody tr th {\n",
       "        vertical-align: top;\n",
       "    }\n",
       "\n",
       "    .dataframe thead th {\n",
       "        text-align: right;\n",
       "    }\n",
       "</style>\n",
       "<table border=\"1\" class=\"dataframe\">\n",
       "  <thead>\n",
       "    <tr style=\"text-align: right;\">\n",
       "      <th></th>\n",
       "      <th>MPG</th>\n",
       "    </tr>\n",
       "  </thead>\n",
       "  <tbody>\n",
       "    <tr>\n",
       "      <th>66</th>\n",
       "      <td>23.103172</td>\n",
       "    </tr>\n",
       "    <tr>\n",
       "      <th>26</th>\n",
       "      <td>38.411003</td>\n",
       "    </tr>\n",
       "    <tr>\n",
       "      <th>50</th>\n",
       "      <td>29.629936</td>\n",
       "    </tr>\n",
       "    <tr>\n",
       "      <th>65</th>\n",
       "      <td>40.050000</td>\n",
       "    </tr>\n",
       "    <tr>\n",
       "      <th>10</th>\n",
       "      <td>44.652834</td>\n",
       "    </tr>\n",
       "    <tr>\n",
       "      <th>...</th>\n",
       "      <td>...</td>\n",
       "    </tr>\n",
       "    <tr>\n",
       "      <th>1</th>\n",
       "      <td>50.013401</td>\n",
       "    </tr>\n",
       "    <tr>\n",
       "      <th>23</th>\n",
       "      <td>40.474723</td>\n",
       "    </tr>\n",
       "    <tr>\n",
       "      <th>62</th>\n",
       "      <td>23.515917</td>\n",
       "    </tr>\n",
       "    <tr>\n",
       "      <th>71</th>\n",
       "      <td>23.203569</td>\n",
       "    </tr>\n",
       "    <tr>\n",
       "      <th>78</th>\n",
       "      <td>34.000000</td>\n",
       "    </tr>\n",
       "  </tbody>\n",
       "</table>\n",
       "<p>79 rows × 1 columns</p>\n",
       "</div>"
      ],
      "text/plain": [
       "          MPG\n",
       "66  23.103172\n",
       "26  38.411003\n",
       "50  29.629936\n",
       "65  40.050000\n",
       "10  44.652834\n",
       "..        ...\n",
       "1   50.013401\n",
       "23  40.474723\n",
       "62  23.515917\n",
       "71  23.203569\n",
       "78  34.000000\n",
       "\n",
       "[79 rows x 1 columns]"
      ]
     },
     "execution_count": 28,
     "metadata": {},
     "output_type": "execute_result"
    }
   ],
   "source": [
    "y_train"
   ]
  },
  {
   "cell_type": "code",
   "execution_count": 29,
   "id": "dda1b83c-48db-4c94-b8c7-59bb4d602546",
   "metadata": {},
   "outputs": [
    {
     "data": {
      "text/html": [
       "<div>\n",
       "<style scoped>\n",
       "    .dataframe tbody tr th:only-of-type {\n",
       "        vertical-align: middle;\n",
       "    }\n",
       "\n",
       "    .dataframe tbody tr th {\n",
       "        vertical-align: top;\n",
       "    }\n",
       "\n",
       "    .dataframe thead th {\n",
       "        text-align: right;\n",
       "    }\n",
       "</style>\n",
       "<table border=\"1\" class=\"dataframe\">\n",
       "  <thead>\n",
       "    <tr style=\"text-align: right;\">\n",
       "      <th></th>\n",
       "      <th>MPG</th>\n",
       "    </tr>\n",
       "  </thead>\n",
       "  <tbody>\n",
       "    <tr>\n",
       "      <th>53</th>\n",
       "      <td>24.487367</td>\n",
       "    </tr>\n",
       "    <tr>\n",
       "      <th>21</th>\n",
       "      <td>42.828479</td>\n",
       "    </tr>\n",
       "  </tbody>\n",
       "</table>\n",
       "</div>"
      ],
      "text/plain": [
       "          MPG\n",
       "53  24.487367\n",
       "21  42.828479"
      ]
     },
     "execution_count": 29,
     "metadata": {},
     "output_type": "execute_result"
    }
   ],
   "source": [
    "y_test"
   ]
  },
  {
   "cell_type": "code",
   "execution_count": null,
   "id": "1f8d963d-5886-430e-9717-ee1a8973c864",
   "metadata": {},
   "outputs": [],
   "source": []
  },
  {
   "cell_type": "code",
   "execution_count": null,
   "id": "bdd87f34-d96c-4ae3-bd53-0dbbd09a327c",
   "metadata": {},
   "outputs": [],
   "source": []
  },
  {
   "cell_type": "markdown",
   "id": "dd7474c7-0534-4d36-a41d-0c737d60b85c",
   "metadata": {},
   "source": [
    "## 6. Model Training"
   ]
  },
  {
   "cell_type": "code",
   "execution_count": 30,
   "id": "476a8073-3192-48a4-bfba-3d534c3446fe",
   "metadata": {},
   "outputs": [],
   "source": [
    "linear_model = LinearRegression()"
   ]
  },
  {
   "cell_type": "code",
   "execution_count": 31,
   "id": "167b576e-b095-4003-830d-e32f81bac4bc",
   "metadata": {},
   "outputs": [
    {
     "data": {
      "text/html": [
       "<style>#sk-container-id-1 {color: black;}#sk-container-id-1 pre{padding: 0;}#sk-container-id-1 div.sk-toggleable {background-color: white;}#sk-container-id-1 label.sk-toggleable__label {cursor: pointer;display: block;width: 100%;margin-bottom: 0;padding: 0.3em;box-sizing: border-box;text-align: center;}#sk-container-id-1 label.sk-toggleable__label-arrow:before {content: \"▸\";float: left;margin-right: 0.25em;color: #696969;}#sk-container-id-1 label.sk-toggleable__label-arrow:hover:before {color: black;}#sk-container-id-1 div.sk-estimator:hover label.sk-toggleable__label-arrow:before {color: black;}#sk-container-id-1 div.sk-toggleable__content {max-height: 0;max-width: 0;overflow: hidden;text-align: left;background-color: #f0f8ff;}#sk-container-id-1 div.sk-toggleable__content pre {margin: 0.2em;color: black;border-radius: 0.25em;background-color: #f0f8ff;}#sk-container-id-1 input.sk-toggleable__control:checked~div.sk-toggleable__content {max-height: 200px;max-width: 100%;overflow: auto;}#sk-container-id-1 input.sk-toggleable__control:checked~label.sk-toggleable__label-arrow:before {content: \"▾\";}#sk-container-id-1 div.sk-estimator input.sk-toggleable__control:checked~label.sk-toggleable__label {background-color: #d4ebff;}#sk-container-id-1 div.sk-label input.sk-toggleable__control:checked~label.sk-toggleable__label {background-color: #d4ebff;}#sk-container-id-1 input.sk-hidden--visually {border: 0;clip: rect(1px 1px 1px 1px);clip: rect(1px, 1px, 1px, 1px);height: 1px;margin: -1px;overflow: hidden;padding: 0;position: absolute;width: 1px;}#sk-container-id-1 div.sk-estimator {font-family: monospace;background-color: #f0f8ff;border: 1px dotted black;border-radius: 0.25em;box-sizing: border-box;margin-bottom: 0.5em;}#sk-container-id-1 div.sk-estimator:hover {background-color: #d4ebff;}#sk-container-id-1 div.sk-parallel-item::after {content: \"\";width: 100%;border-bottom: 1px solid gray;flex-grow: 1;}#sk-container-id-1 div.sk-label:hover label.sk-toggleable__label {background-color: #d4ebff;}#sk-container-id-1 div.sk-serial::before {content: \"\";position: absolute;border-left: 1px solid gray;box-sizing: border-box;top: 0;bottom: 0;left: 50%;z-index: 0;}#sk-container-id-1 div.sk-serial {display: flex;flex-direction: column;align-items: center;background-color: white;padding-right: 0.2em;padding-left: 0.2em;position: relative;}#sk-container-id-1 div.sk-item {position: relative;z-index: 1;}#sk-container-id-1 div.sk-parallel {display: flex;align-items: stretch;justify-content: center;background-color: white;position: relative;}#sk-container-id-1 div.sk-item::before, #sk-container-id-1 div.sk-parallel-item::before {content: \"\";position: absolute;border-left: 1px solid gray;box-sizing: border-box;top: 0;bottom: 0;left: 50%;z-index: -1;}#sk-container-id-1 div.sk-parallel-item {display: flex;flex-direction: column;z-index: 1;position: relative;background-color: white;}#sk-container-id-1 div.sk-parallel-item:first-child::after {align-self: flex-end;width: 50%;}#sk-container-id-1 div.sk-parallel-item:last-child::after {align-self: flex-start;width: 50%;}#sk-container-id-1 div.sk-parallel-item:only-child::after {width: 0;}#sk-container-id-1 div.sk-dashed-wrapped {border: 1px dashed gray;margin: 0 0.4em 0.5em 0.4em;box-sizing: border-box;padding-bottom: 0.4em;background-color: white;}#sk-container-id-1 div.sk-label label {font-family: monospace;font-weight: bold;display: inline-block;line-height: 1.2em;}#sk-container-id-1 div.sk-label-container {text-align: center;}#sk-container-id-1 div.sk-container {/* jupyter's `normalize.less` sets `[hidden] { display: none; }` but bootstrap.min.css set `[hidden] { display: none !important; }` so we also need the `!important` here to be able to override the default hidden behavior on the sphinx rendered scikit-learn.org. See: https://github.com/scikit-learn/scikit-learn/issues/21755 */display: inline-block !important;position: relative;}#sk-container-id-1 div.sk-text-repr-fallback {display: none;}</style><div id=\"sk-container-id-1\" class=\"sk-top-container\"><div class=\"sk-text-repr-fallback\"><pre>LinearRegression()</pre><b>In a Jupyter environment, please rerun this cell to show the HTML representation or trust the notebook. <br />On GitHub, the HTML representation is unable to render, please try loading this page with nbviewer.org.</b></div><div class=\"sk-container\" hidden><div class=\"sk-item\"><div class=\"sk-estimator sk-toggleable\"><input class=\"sk-toggleable__control sk-hidden--visually\" id=\"sk-estimator-id-1\" type=\"checkbox\" checked><label for=\"sk-estimator-id-1\" class=\"sk-toggleable__label sk-toggleable__label-arrow\">LinearRegression</label><div class=\"sk-toggleable__content\"><pre>LinearRegression()</pre></div></div></div></div></div>"
      ],
      "text/plain": [
       "LinearRegression()"
      ]
     },
     "execution_count": 31,
     "metadata": {},
     "output_type": "execute_result"
    }
   ],
   "source": [
    "linear_model"
   ]
  },
  {
   "cell_type": "code",
   "execution_count": 32,
   "id": "03fc5444-1357-425b-88ce-eb007f0a438a",
   "metadata": {},
   "outputs": [
    {
     "data": {
      "text/html": [
       "<style>#sk-container-id-2 {color: black;}#sk-container-id-2 pre{padding: 0;}#sk-container-id-2 div.sk-toggleable {background-color: white;}#sk-container-id-2 label.sk-toggleable__label {cursor: pointer;display: block;width: 100%;margin-bottom: 0;padding: 0.3em;box-sizing: border-box;text-align: center;}#sk-container-id-2 label.sk-toggleable__label-arrow:before {content: \"▸\";float: left;margin-right: 0.25em;color: #696969;}#sk-container-id-2 label.sk-toggleable__label-arrow:hover:before {color: black;}#sk-container-id-2 div.sk-estimator:hover label.sk-toggleable__label-arrow:before {color: black;}#sk-container-id-2 div.sk-toggleable__content {max-height: 0;max-width: 0;overflow: hidden;text-align: left;background-color: #f0f8ff;}#sk-container-id-2 div.sk-toggleable__content pre {margin: 0.2em;color: black;border-radius: 0.25em;background-color: #f0f8ff;}#sk-container-id-2 input.sk-toggleable__control:checked~div.sk-toggleable__content {max-height: 200px;max-width: 100%;overflow: auto;}#sk-container-id-2 input.sk-toggleable__control:checked~label.sk-toggleable__label-arrow:before {content: \"▾\";}#sk-container-id-2 div.sk-estimator input.sk-toggleable__control:checked~label.sk-toggleable__label {background-color: #d4ebff;}#sk-container-id-2 div.sk-label input.sk-toggleable__control:checked~label.sk-toggleable__label {background-color: #d4ebff;}#sk-container-id-2 input.sk-hidden--visually {border: 0;clip: rect(1px 1px 1px 1px);clip: rect(1px, 1px, 1px, 1px);height: 1px;margin: -1px;overflow: hidden;padding: 0;position: absolute;width: 1px;}#sk-container-id-2 div.sk-estimator {font-family: monospace;background-color: #f0f8ff;border: 1px dotted black;border-radius: 0.25em;box-sizing: border-box;margin-bottom: 0.5em;}#sk-container-id-2 div.sk-estimator:hover {background-color: #d4ebff;}#sk-container-id-2 div.sk-parallel-item::after {content: \"\";width: 100%;border-bottom: 1px solid gray;flex-grow: 1;}#sk-container-id-2 div.sk-label:hover label.sk-toggleable__label {background-color: #d4ebff;}#sk-container-id-2 div.sk-serial::before {content: \"\";position: absolute;border-left: 1px solid gray;box-sizing: border-box;top: 0;bottom: 0;left: 50%;z-index: 0;}#sk-container-id-2 div.sk-serial {display: flex;flex-direction: column;align-items: center;background-color: white;padding-right: 0.2em;padding-left: 0.2em;position: relative;}#sk-container-id-2 div.sk-item {position: relative;z-index: 1;}#sk-container-id-2 div.sk-parallel {display: flex;align-items: stretch;justify-content: center;background-color: white;position: relative;}#sk-container-id-2 div.sk-item::before, #sk-container-id-2 div.sk-parallel-item::before {content: \"\";position: absolute;border-left: 1px solid gray;box-sizing: border-box;top: 0;bottom: 0;left: 50%;z-index: -1;}#sk-container-id-2 div.sk-parallel-item {display: flex;flex-direction: column;z-index: 1;position: relative;background-color: white;}#sk-container-id-2 div.sk-parallel-item:first-child::after {align-self: flex-end;width: 50%;}#sk-container-id-2 div.sk-parallel-item:last-child::after {align-self: flex-start;width: 50%;}#sk-container-id-2 div.sk-parallel-item:only-child::after {width: 0;}#sk-container-id-2 div.sk-dashed-wrapped {border: 1px dashed gray;margin: 0 0.4em 0.5em 0.4em;box-sizing: border-box;padding-bottom: 0.4em;background-color: white;}#sk-container-id-2 div.sk-label label {font-family: monospace;font-weight: bold;display: inline-block;line-height: 1.2em;}#sk-container-id-2 div.sk-label-container {text-align: center;}#sk-container-id-2 div.sk-container {/* jupyter's `normalize.less` sets `[hidden] { display: none; }` but bootstrap.min.css set `[hidden] { display: none !important; }` so we also need the `!important` here to be able to override the default hidden behavior on the sphinx rendered scikit-learn.org. See: https://github.com/scikit-learn/scikit-learn/issues/21755 */display: inline-block !important;position: relative;}#sk-container-id-2 div.sk-text-repr-fallback {display: none;}</style><div id=\"sk-container-id-2\" class=\"sk-top-container\"><div class=\"sk-text-repr-fallback\"><pre>LinearRegression()</pre><b>In a Jupyter environment, please rerun this cell to show the HTML representation or trust the notebook. <br />On GitHub, the HTML representation is unable to render, please try loading this page with nbviewer.org.</b></div><div class=\"sk-container\" hidden><div class=\"sk-item\"><div class=\"sk-estimator sk-toggleable\"><input class=\"sk-toggleable__control sk-hidden--visually\" id=\"sk-estimator-id-2\" type=\"checkbox\" checked><label for=\"sk-estimator-id-2\" class=\"sk-toggleable__label sk-toggleable__label-arrow\">LinearRegression</label><div class=\"sk-toggleable__content\"><pre>LinearRegression()</pre></div></div></div></div></div>"
      ],
      "text/plain": [
       "LinearRegression()"
      ]
     },
     "execution_count": 32,
     "metadata": {},
     "output_type": "execute_result"
    }
   ],
   "source": [
    "linear_model.fit(x_train,y_train)"
   ]
  },
  {
   "cell_type": "code",
   "execution_count": 33,
   "id": "86c8c24e-cb3d-4c05-ac8a-70a21d87e96b",
   "metadata": {},
   "outputs": [
    {
     "data": {
      "text/plain": [
       "array([[-0.20964021, -0.46873231,  0.42060842,  0.79360763]])"
      ]
     },
     "execution_count": 33,
     "metadata": {},
     "output_type": "execute_result"
    }
   ],
   "source": [
    "linear_model.coef_"
   ]
  },
  {
   "cell_type": "code",
   "execution_count": 34,
   "id": "8f18442b-1fa0-424f-97b5-472bb3d6822a",
   "metadata": {},
   "outputs": [
    {
     "data": {
      "text/plain": [
       "array([28.47136377])"
      ]
     },
     "execution_count": 34,
     "metadata": {},
     "output_type": "execute_result"
    }
   ],
   "source": [
    "linear_model.intercept_"
   ]
  },
  {
   "cell_type": "code",
   "execution_count": null,
   "id": "a76a1664-86bb-43a8-8cf7-6c6ae4d33ec3",
   "metadata": {},
   "outputs": [],
   "source": []
  },
  {
   "cell_type": "markdown",
   "id": "ed1e2786-16a5-4f50-8e99-6d2aa978f80e",
   "metadata": {},
   "source": [
    "## 7. Model Testing"
   ]
  },
  {
   "cell_type": "code",
   "execution_count": 35,
   "id": "50da9028-1a2c-437a-ac93-df2eef738840",
   "metadata": {},
   "outputs": [],
   "source": [
    "y_trained = linear_model.predict(x_train)"
   ]
  },
  {
   "cell_type": "code",
   "execution_count": 36,
   "id": "f0f3f536-7eaa-4b82-a5a9-0ed97fdca496",
   "metadata": {},
   "outputs": [
    {
     "data": {
      "text/plain": [
       "array([[26.31057069],\n",
       "       [35.34262245],\n",
       "       [33.13297104],\n",
       "       [36.16235845],\n",
       "       [41.51892001],\n",
       "       [35.5251803 ],\n",
       "       [33.32702205],\n",
       "       [39.16333261],\n",
       "       [37.36844067],\n",
       "       [34.55577635],\n",
       "       [28.47483263],\n",
       "       [43.1703388 ],\n",
       "       [41.32166992],\n",
       "       [37.59668508],\n",
       "       [38.93471628],\n",
       "       [36.18358168],\n",
       "       [32.10515327],\n",
       "       [36.98398556],\n",
       "       [36.0264911 ],\n",
       "       [38.67156442],\n",
       "       [41.71182897],\n",
       "       [33.30975287],\n",
       "       [34.16321125],\n",
       "       [20.67005061],\n",
       "       [38.07589287],\n",
       "       [34.21950921],\n",
       "       [48.0625519 ],\n",
       "       [46.68093426],\n",
       "       [37.73993095],\n",
       "       [28.48028458],\n",
       "       [18.10262722],\n",
       "       [24.41786979],\n",
       "       [15.39562953],\n",
       "       [35.35269223],\n",
       "       [23.73488354],\n",
       "       [42.22871553],\n",
       "       [35.54797198],\n",
       "       [34.99852651],\n",
       "       [18.64026561],\n",
       "       [28.94329112],\n",
       "       [47.76775519],\n",
       "       [26.49303554],\n",
       "       [28.12431142],\n",
       "       [30.08584143],\n",
       "       [48.17386441],\n",
       "       [37.78973327],\n",
       "       [35.60878881],\n",
       "       [35.12254923],\n",
       "       [43.12884369],\n",
       "       [42.1375435 ],\n",
       "       [36.90990612],\n",
       "       [12.77368321],\n",
       "       [41.00929795],\n",
       "       [37.75435776],\n",
       "       [23.04218987],\n",
       "       [23.57217634],\n",
       "       [38.06588701],\n",
       "       [32.75248716],\n",
       "       [21.15076526],\n",
       "       [41.71032639],\n",
       "       [21.66839346],\n",
       "       [36.96429856],\n",
       "       [37.12436251],\n",
       "       [41.53089942],\n",
       "       [36.24721753],\n",
       "       [39.81012983],\n",
       "       [42.70581843],\n",
       "       [26.07147812],\n",
       "       [41.8946033 ],\n",
       "       [38.52964333],\n",
       "       [47.71289881],\n",
       "       [40.17949724],\n",
       "       [28.47384208],\n",
       "       [40.81912647],\n",
       "       [42.354386  ],\n",
       "       [39.63588468],\n",
       "       [25.17011477],\n",
       "       [22.27583675],\n",
       "       [26.1778791 ]])"
      ]
     },
     "execution_count": 36,
     "metadata": {},
     "output_type": "execute_result"
    }
   ],
   "source": [
    "y_trained"
   ]
  },
  {
   "cell_type": "code",
   "execution_count": 37,
   "id": "3d8673d0-d0ef-4fe5-8dd0-efcb7091c172",
   "metadata": {},
   "outputs": [],
   "source": [
    "y_tested = linear_model.predict(x_test)"
   ]
  },
  {
   "cell_type": "code",
   "execution_count": 38,
   "id": "984a6720-595c-4801-9e25-59be400d7fb9",
   "metadata": {},
   "outputs": [
    {
     "data": {
      "text/plain": [
       "array([[27.93759649],\n",
       "       [37.12763473]])"
      ]
     },
     "execution_count": 38,
     "metadata": {},
     "output_type": "execute_result"
    }
   ],
   "source": [
    "y_tested"
   ]
  },
  {
   "cell_type": "code",
   "execution_count": 39,
   "id": "66751ee9-f992-46ba-ba6b-9aae4657f71e",
   "metadata": {},
   "outputs": [],
   "source": [
    "from sklearn.metrics import mean_squared_error,mean_absolute_error"
   ]
  },
  {
   "cell_type": "code",
   "execution_count": 40,
   "id": "595852e2-0712-4697-9770-bfbc3e945252",
   "metadata": {},
   "outputs": [
    {
     "data": {
      "text/plain": [
       "18.847749422177706"
      ]
     },
     "execution_count": 40,
     "metadata": {},
     "output_type": "execute_result"
    }
   ],
   "source": [
    "mean_squared_error(y_train,y_trained)"
   ]
  },
  {
   "cell_type": "code",
   "execution_count": 41,
   "id": "c74e73e9-30ab-4e80-b8e4-481bcab52c98",
   "metadata": {},
   "outputs": [
    {
     "data": {
      "text/html": [
       "<div>\n",
       "<style scoped>\n",
       "    .dataframe tbody tr th:only-of-type {\n",
       "        vertical-align: middle;\n",
       "    }\n",
       "\n",
       "    .dataframe tbody tr th {\n",
       "        vertical-align: top;\n",
       "    }\n",
       "\n",
       "    .dataframe thead th {\n",
       "        text-align: right;\n",
       "    }\n",
       "</style>\n",
       "<table border=\"1\" class=\"dataframe\">\n",
       "  <thead>\n",
       "    <tr style=\"text-align: right;\">\n",
       "      <th></th>\n",
       "      <th>MPG</th>\n",
       "    </tr>\n",
       "  </thead>\n",
       "  <tbody>\n",
       "    <tr>\n",
       "      <th>53</th>\n",
       "      <td>24.487367</td>\n",
       "    </tr>\n",
       "    <tr>\n",
       "      <th>21</th>\n",
       "      <td>42.828479</td>\n",
       "    </tr>\n",
       "  </tbody>\n",
       "</table>\n",
       "</div>"
      ],
      "text/plain": [
       "          MPG\n",
       "53  24.487367\n",
       "21  42.828479"
      ]
     },
     "execution_count": 41,
     "metadata": {},
     "output_type": "execute_result"
    }
   ],
   "source": [
    "y_test"
   ]
  },
  {
   "cell_type": "code",
   "execution_count": 42,
   "id": "e0aa6aa6-25cf-473d-ab84-0fd038d653c2",
   "metadata": {},
   "outputs": [
    {
     "data": {
      "text/plain": [
       "22.20185791438254"
      ]
     },
     "execution_count": 42,
     "metadata": {},
     "output_type": "execute_result"
    }
   ],
   "source": [
    "mean_squared_error(y_test,y_tested)"
   ]
  },
  {
   "cell_type": "code",
   "execution_count": null,
   "id": "d0835b9e-e156-408d-96dd-188e3a4a0b12",
   "metadata": {},
   "outputs": [],
   "source": []
  },
  {
   "cell_type": "code",
   "execution_count": null,
   "id": "339e1f2a-1435-4afa-bdc5-892b15909c24",
   "metadata": {},
   "outputs": [],
   "source": []
  },
  {
   "cell_type": "markdown",
   "id": "26ddc713-dea0-4b9b-83d6-82f14440a4e5",
   "metadata": {},
   "source": [
    "## 8. Model Evalution"
   ]
  },
  {
   "cell_type": "code",
   "execution_count": null,
   "id": "8da1aa19-be00-4155-b3ee-54aaf27c0cd2",
   "metadata": {},
   "outputs": [],
   "source": [
    "error = y-y_trained"
   ]
  },
  {
   "cell_type": "code",
   "execution_count": null,
   "id": "f5645b8c-e365-4a48-a499-35f5577e0134",
   "metadata": {},
   "outputs": [],
   "source": [
    "error"
   ]
  },
  {
   "cell_type": "code",
   "execution_count": null,
   "id": "ae2612db-4aec-46e0-a827-2ccee7398154",
   "metadata": {},
   "outputs": [],
   "source": [
    "error_flattened = error.values.flatten()"
   ]
  },
  {
   "cell_type": "code",
   "execution_count": null,
   "id": "00f3f38d-89a5-4650-8b65-abad9ebc7cbe",
   "metadata": {},
   "outputs": [],
   "source": [
    "from sklearn.metrics import mean_squared_error.mean_absolute error"
   ]
  },
  {
   "cell_type": "code",
   "execution_count": null,
   "id": "bda277ae-a23f-44e0-a9b3-2148af6fbe23",
   "metadata": {},
   "outputs": [],
   "source": [
    "#Choose mean_squared_error, When you hane no outliers.\n",
    "#Choose mean_absolute error, Whene you have outliers."
   ]
  },
  {
   "cell_type": "code",
   "execution_count": null,
   "id": "b41808b2-b79b-4e10-896c-3493fadb2958",
   "metadata": {},
   "outputs": [],
   "source": []
  },
  {
   "cell_type": "markdown",
   "id": "9c901c2b-fafd-4b05-90e7-e3737ee4afa9",
   "metadata": {},
   "source": [
    "## Assumption 5 Homoscedasticity\n",
    "-  Its a plot between Input and error"
   ]
  },
  {
   "cell_type": "code",
   "execution_count": null,
   "id": "863255b5-6434-43ea-974e-4335b0477532",
   "metadata": {},
   "outputs": [],
   "source": [
    "sns.scatterplot(data = cars_data, x = 'HP', y = error_flattened)\n",
    "plt.show()"
   ]
  },
  {
   "cell_type": "code",
   "execution_count": null,
   "id": "c51f6faa-2bc5-4981-8080-6807f6800ea0",
   "metadata": {},
   "outputs": [],
   "source": [
    "plt.scatter(x = cars_data['HP'],y = error)\n",
    "plt.xlabel('HP')\n",
    "plt.ylabel('Error')\n",
    "plt.title('Homoscadacity Test between HP and Error')\n",
    "plt.show()"
   ]
  },
  {
   "cell_type": "code",
   "execution_count": null,
   "id": "0d5ed53c-229b-46b6-9113-bee17091971f",
   "metadata": {},
   "outputs": [],
   "source": [
    "plt.scatter(x = cars_data['SP'],y = error)\n",
    "plt.xlabel('SP')\n",
    "plt.ylabel('Error')\n",
    "plt.title('Homoscadacity Test between SP and Error')\n",
    "plt.show()"
   ]
  },
  {
   "cell_type": "code",
   "execution_count": null,
   "id": "4fd94aba-ddb4-4e95-b925-55aa752d2487",
   "metadata": {},
   "outputs": [],
   "source": [
    "plt.scatter(x = cars_data['VOL'],y = error)\n",
    "plt.xlabel('VOL')\n",
    "plt.ylabel('Error')\n",
    "plt.title('Homoscadacity Test between VOL and Error')\n",
    "plt.show()"
   ]
  },
  {
   "cell_type": "code",
   "execution_count": null,
   "id": "b56ecbbf-b834-4214-b079-817821c7f374",
   "metadata": {},
   "outputs": [],
   "source": [
    "plt.scatter(x = cars_data['WT'],y = error)\n",
    "plt.xlabel('WT')\n",
    "plt.ylabel('Error')\n",
    "plt.title('Homoscadacity Test between WT and Error')\n",
    "plt.show()"
   ]
  },
  {
   "cell_type": "markdown",
   "id": "5d8a47aa-3004-4a6b-910a-a5b9baa26be6",
   "metadata": {},
   "source": [
    " **- Homoscadacity Test is failed**"
   ]
  },
  {
   "cell_type": "code",
   "execution_count": null,
   "id": "799ef237-f603-4300-890f-3ddc94c4949d",
   "metadata": {},
   "outputs": [],
   "source": []
  },
  {
   "cell_type": "markdown",
   "id": "9e2cb4f1-4fcf-45a6-be0a-44bf28f16c67",
   "metadata": {},
   "source": [
    "## Assumption 6 Zero residual\n",
    "-  Zero residual - Actual output vs predict output"
   ]
  },
  {
   "cell_type": "code",
   "execution_count": null,
   "id": "ec9d451a-887f-4b8f-9ac0-706a135a2108",
   "metadata": {},
   "outputs": [],
   "source": [
    "plt.scatter(x=y,y=y_t)\n",
    "plt.xlabel('Actual Output')\n",
    "plt.ylabel('Predicted Output')\n",
    "plt.title('Actual Output vs Predicted Output')\n",
    "plt.show()"
   ]
  },
  {
   "cell_type": "markdown",
   "id": "5b5a425f-9880-4b70-8752-871ad520f87b",
   "metadata": {},
   "source": [
    "**- Zero Residual Test failed**"
   ]
  },
  {
   "cell_type": "markdown",
   "id": "d9e58d28-343f-4f1d-b82b-0520d4898929",
   "metadata": {},
   "source": [
    "## Using Statsmodel to build Linear Regression"
   ]
  },
  {
   "cell_type": "markdown",
   "id": "d8335aa3-982c-4870-85e5-e0115f1670f3",
   "metadata": {},
   "source": [
    "### NOTE:\n",
    "Linear Regression can be built using 2 libraries:\n",
    "1. sklearn\n",
    "2. statsmodels"
   ]
  },
  {
   "cell_type": "code",
   "execution_count": 45,
   "id": "68afcb62-d27c-401c-acb0-00c371ed0ed4",
   "metadata": {},
   "outputs": [],
   "source": [
    "import statsmodels.formula.api as smf"
   ]
  },
  {
   "cell_type": "code",
   "execution_count": 46,
   "id": "0970e9bd-98ae-457a-9191-f3ad869187ad",
   "metadata": {},
   "outputs": [],
   "source": [
    "model_ols=smf.ols(formula= \"MPG~HP\",data=cars_data).fit()"
   ]
  },
  {
   "cell_type": "code",
   "execution_count": 47,
   "id": "d407950a-75a4-48d2-9bdd-4a079560c5b2",
   "metadata": {},
   "outputs": [
    {
     "data": {
      "text/plain": [
       "Intercept    48.039202\n",
       "HP           -0.115921\n",
       "dtype: float64"
      ]
     },
     "execution_count": 47,
     "metadata": {},
     "output_type": "execute_result"
    }
   ],
   "source": [
    "model_ols.params"
   ]
  },
  {
   "cell_type": "code",
   "execution_count": 48,
   "id": "8540541b-feb3-4365-a4b9-2178db29d9ea",
   "metadata": {},
   "outputs": [],
   "source": [
    "model_ols=smf.ols(formula= \"MPG~HP+VOL+SP+WT\",data=cars_data).fit()"
   ]
  },
  {
   "cell_type": "code",
   "execution_count": 49,
   "id": "a58f33a1-8a70-41eb-8b42-e22648bdab33",
   "metadata": {},
   "outputs": [
    {
     "data": {
      "text/plain": [
       "Intercept    30.677336\n",
       "HP           -0.205444\n",
       "VOL          -0.336051\n",
       "SP            0.395627\n",
       "WT            0.400574\n",
       "dtype: float64"
      ]
     },
     "execution_count": 49,
     "metadata": {},
     "output_type": "execute_result"
    }
   ],
   "source": [
    "model_ols.params"
   ]
  },
  {
   "cell_type": "markdown",
   "id": "47358368-2e6f-40c4-94f8-bb341f96105b",
   "metadata": {},
   "source": [
    "## AIC\n",
    "-  The Akaike information criterion (AIC) is a metric used to compare the fit of different regression models. \n",
    "-  The lower the AIC, the better the model fit."
   ]
  },
  {
   "cell_type": "markdown",
   "id": "e3dadafb-5bdb-46cc-8d9c-0b8a91b1f5ca",
   "metadata": {},
   "source": [
    "## BIC\n",
    "-  The Bayesian Information Criterion (BIC) is a metric used to compare the goodness of fit of different regression models.\n",
    "-  A lower BIC indicates a better balance between model fit and complexity"
   ]
  },
  {
   "cell_type": "code",
   "execution_count": 50,
   "id": "d2fb0892-50b5-4708-bc0a-fcbf936d5763",
   "metadata": {},
   "outputs": [],
   "source": [
    "model_1=smf.ols(formula= \"MPG~HP\",data=cars_data).fit()"
   ]
  },
  {
   "cell_type": "code",
   "execution_count": 51,
   "id": "011a9cd1-395e-4066-b603-375f611d0f7d",
   "metadata": {},
   "outputs": [
    {
     "name": "stdout",
     "output_type": "stream",
     "text": [
      "AIC value for model 1 is 530.7452702659343\n",
      "BIC value for model 1 is 535.5341685752792\n"
     ]
    }
   ],
   "source": [
    "print(\"AIC value for model 1 is\", model_1.aic)\n",
    "print(\"BIC value for model 1 is\", model_1.bic)"
   ]
  },
  {
   "cell_type": "code",
   "execution_count": 52,
   "id": "f767ecac-4205-4e5a-a035-e28a1d0fbeac",
   "metadata": {},
   "outputs": [],
   "source": [
    "model_2=smf.ols(formula= \"MPG~HP+VOL\",data=cars_data).fit()"
   ]
  },
  {
   "cell_type": "code",
   "execution_count": 53,
   "id": "cd68411e-6ca5-495d-a9e6-a18ba24f2d0d",
   "metadata": {},
   "outputs": [
    {
     "name": "stdout",
     "output_type": "stream",
     "text": [
      "AIC value for model 2 is 480.6569237052377\n",
      "BIC value for model 2 is 487.84027116925506\n"
     ]
    }
   ],
   "source": [
    "print(\"AIC value for model 2 is\", model_2.aic)\n",
    "print(\"BIC value for model 2 is\", model_2.bic)"
   ]
  },
  {
   "cell_type": "code",
   "execution_count": 54,
   "id": "a1360d04-2eca-4c73-8c71-733f2563c474",
   "metadata": {},
   "outputs": [],
   "source": [
    "model_3=smf.ols(formula= \"MPG~HP+VOL+SP\",data=cars_data).fit()"
   ]
  },
  {
   "cell_type": "code",
   "execution_count": 55,
   "id": "c2581200-dde5-421c-bd0b-f797115aad70",
   "metadata": {},
   "outputs": [
    {
     "name": "stdout",
     "output_type": "stream",
     "text": [
      "AIC value for model 3 is 475.9875158854609\n",
      "BIC value for model 3 is 485.56531250415065\n"
     ]
    }
   ],
   "source": [
    "print(\"AIC value for model 3 is\", model_3.aic)\n",
    "print(\"BIC value for model 3 is\", model_3.bic)"
   ]
  },
  {
   "cell_type": "code",
   "execution_count": 56,
   "id": "55cca2ff-4686-41b8-ae17-369dcd799122",
   "metadata": {},
   "outputs": [],
   "source": [
    "model_4=smf.ols(formula= \"MPG~HP+VOL+SP+WT\",data=cars_data).fit()"
   ]
  },
  {
   "cell_type": "code",
   "execution_count": 57,
   "id": "3cbbcefa-b8c4-473e-b5f3-a0af9cf8276c",
   "metadata": {},
   "outputs": [
    {
     "name": "stdout",
     "output_type": "stream",
     "text": [
      "AIC value for model 4 is 477.9279049354879\n",
      "BIC value for model 4 is 489.9001507088501\n"
     ]
    }
   ],
   "source": [
    "print(\"AIC value for model 4 is\", model_4.aic)\n",
    "print(\"BIC value for model 4 is\", model_4.bic)"
   ]
  },
  {
   "cell_type": "code",
   "execution_count": null,
   "id": "c994a3fc-5d27-4ae6-96b7-6183e369071a",
   "metadata": {},
   "outputs": [],
   "source": []
  },
  {
   "cell_type": "markdown",
   "id": "9db96664-e37c-4cbd-8aa4-7d402ba864d5",
   "metadata": {},
   "source": [
    "## 9. Model Deployment"
   ]
  },
  {
   "cell_type": "code",
   "execution_count": null,
   "id": "a249b1ff-4355-4061-8f33-7b119626cf29",
   "metadata": {},
   "outputs": [],
   "source": []
  },
  {
   "cell_type": "code",
   "execution_count": null,
   "id": "99e2ea6e-ff4d-4556-9724-99016132b48d",
   "metadata": {},
   "outputs": [],
   "source": []
  },
  {
   "cell_type": "code",
   "execution_count": null,
   "id": "3ab969ef-1e3f-4a53-aa55-7350f60479f8",
   "metadata": {},
   "outputs": [],
   "source": []
  },
  {
   "cell_type": "code",
   "execution_count": null,
   "id": "48c987c3-0bf1-427e-a4d6-8a85d02e52b5",
   "metadata": {},
   "outputs": [],
   "source": []
  },
  {
   "cell_type": "code",
   "execution_count": null,
   "id": "2c13ae73-7d8e-4da5-97f6-3d784959824c",
   "metadata": {},
   "outputs": [],
   "source": []
  },
  {
   "cell_type": "code",
   "execution_count": null,
   "id": "9e188d83-cf0b-4065-96f9-2b67a9838e71",
   "metadata": {},
   "outputs": [],
   "source": []
  },
  {
   "cell_type": "code",
   "execution_count": null,
   "id": "98c5f475-6cb3-4652-90cb-8c3c1b3b5a05",
   "metadata": {},
   "outputs": [],
   "source": []
  }
 ],
 "metadata": {
  "kernelspec": {
   "display_name": "Python 3 (ipykernel)",
   "language": "python",
   "name": "python3"
  },
  "language_info": {
   "codemirror_mode": {
    "name": "ipython",
    "version": 3
   },
   "file_extension": ".py",
   "mimetype": "text/x-python",
   "name": "python",
   "nbconvert_exporter": "python",
   "pygments_lexer": "ipython3",
   "version": "3.12.0"
  }
 },
 "nbformat": 4,
 "nbformat_minor": 5
}

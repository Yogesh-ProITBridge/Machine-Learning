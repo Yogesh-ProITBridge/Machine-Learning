{
 "cells": [
  {
   "cell_type": "markdown",
   "id": "f7f8d332-68d6-4af0-9522-29cc2b7d90a7",
   "metadata": {},
   "source": [
    "## Imbalance Dataset"
   ]
  },
  {
   "cell_type": "code",
   "execution_count": null,
   "id": "e3c09339-a232-4c8b-be5a-5ed3a72606a3",
   "metadata": {},
   "outputs": [],
   "source": []
  }
 ],
 "metadata": {
  "kernelspec": {
   "display_name": "Python 3 (ipykernel)",
   "language": "python",
   "name": "python3"
  },
  "language_info": {
   "codemirror_mode": {
    "name": "ipython",
    "version": 3
   },
   "file_extension": ".py",
   "mimetype": "text/x-python",
   "name": "python",
   "nbconvert_exporter": "python",
   "pygments_lexer": "ipython3",
   "version": "3.12.0"
  }
 },
 "nbformat": 4,
 "nbformat_minor": 5
}
